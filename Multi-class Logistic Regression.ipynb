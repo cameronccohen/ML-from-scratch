{
 "cells": [
  {
   "cell_type": "code",
   "execution_count": 4,
   "metadata": {},
   "outputs": [
    {
     "ename": "ModuleNotFoundError",
     "evalue": "No module named 'sklearn'",
     "output_type": "error",
     "traceback": [
      "\u001b[0;31m---------------------------------------------------------------------------\u001b[0m",
      "\u001b[0;31mModuleNotFoundError\u001b[0m                       Traceback (most recent call last)",
      "\u001b[0;32m<ipython-input-4-5b7137f9e6a0>\u001b[0m in \u001b[0;36m<module>\u001b[0;34m\u001b[0m\n\u001b[0;32m----> 1\u001b[0;31m \u001b[0;32mfrom\u001b[0m \u001b[0msklearn\u001b[0m \u001b[0;32mimport\u001b[0m \u001b[0mdatasets\u001b[0m\u001b[0;34m\u001b[0m\u001b[0;34m\u001b[0m\u001b[0m\n\u001b[0m\u001b[1;32m      2\u001b[0m \u001b[0;32mimport\u001b[0m \u001b[0mpandas\u001b[0m \u001b[0;32mas\u001b[0m \u001b[0mpd\u001b[0m\u001b[0;34m\u001b[0m\u001b[0;34m\u001b[0m\u001b[0m\n\u001b[1;32m      3\u001b[0m \u001b[0;32mimport\u001b[0m \u001b[0mnumpy\u001b[0m \u001b[0;32mas\u001b[0m \u001b[0mnp\u001b[0m\u001b[0;34m\u001b[0m\u001b[0;34m\u001b[0m\u001b[0m\n\u001b[1;32m      4\u001b[0m \u001b[0;32mfrom\u001b[0m \u001b[0mscipy\u001b[0m\u001b[0;34m.\u001b[0m\u001b[0mspecial\u001b[0m \u001b[0;32mimport\u001b[0m \u001b[0mlogsumexp\u001b[0m\u001b[0;34m\u001b[0m\u001b[0;34m\u001b[0m\u001b[0m\n\u001b[1;32m      5\u001b[0m \u001b[0;32mimport\u001b[0m \u001b[0mmatplotlib\u001b[0m\u001b[0;34m\u001b[0m\u001b[0;34m\u001b[0m\u001b[0m\n",
      "\u001b[0;31mModuleNotFoundError\u001b[0m: No module named 'sklearn'"
     ]
    }
   ],
   "source": [
    "from sklearn import datasets\n",
    "import pandas as pd\n",
    "import numpy as np\n",
    "from scipy.special import logsumexp\n",
    "import matplotlib\n",
    "import matplotlib.pyplot as plt\n",
    "from sklearn.utils import shuffle\n",
    "\n",
    "iris = datasets.load_iris()\n",
    "X = iris.data[:,] \n",
    "y = iris.target"
   ]
  },
  {
   "cell_type": "code",
   "execution_count": 204,
   "metadata": {},
   "outputs": [],
   "source": [
    "# Add intercept column\n",
    "X_train = np.hstack((X,np.ones((X.shape[0],1))))\n",
    "\n",
    "# Initialize random betas\n",
    "num_feats = X_train.shape[1]\n",
    "num_classes = len(np.unique(y))\n",
    "init_b = np.random.normal(0,1,num_feats*num_classes).reshape((num_feats,num_classes))"
   ]
  },
  {
   "cell_type": "code",
   "execution_count": 205,
   "metadata": {
    "scrolled": true
   },
   "outputs": [
    {
     "data": {
      "image/png": "[encoded data removed]",
      "text/plain": [
       "<Figure size 432x288 with 1 Axes>"
      ]
     },
     "metadata": {
      "needs_background": "light"
     },
     "output_type": "display_data"
    },
    {
     "data": {
      "text/plain": [
       "0.7466666666666667"
      ]
     },
     "execution_count": 205,
     "metadata": {},
     "output_type": "execute_result"
    }
   ],
   "source": [
    "'''\n",
    "def softmax(z):\n",
    "    exp = np.exp(z - np.max(z, axis = 1).reshape((-1,1)))\n",
    "    sums = np.sum(exp, axis = 1).reshape((-1,1))\n",
    "    return exp / sums\n",
    "'''\n",
    "\n",
    "def logsoftmax(z):\n",
    "    sums = logsumexp(z, axis = 1).reshape((-1,1))\n",
    "    logp = z - sums\n",
    "    return logp\n",
    "\n",
    "def pred(feats, b):\n",
    "    return np.dot(feats,b)\n",
    "\n",
    "def pred_binary(feats, b):\n",
    "    yhat = pred(feats, b)\n",
    "    return(np.argmax(yhat, axis = 1))\n",
    "\n",
    "\n",
    "\n",
    "def compute_cost(feats, b, y):\n",
    "    log_yhats = logsoftmax(pred(feats, b))\n",
    "    cost = -1*np.sum(log_yhats[np.arange(log_yhats.shape[0]), y], axis = 0)\n",
    "    return cost\n",
    "\n",
    "def accuracy(y_pred, y):\n",
    "    return np.mean(y_pred == y)\n",
    "\n",
    "# Gradient in each dimension is sum(feats * (ind(y=k)-P(y=k)))\n",
    "def perform_grad_descent(feats, b, y, eta, lam):\n",
    "    yhats = np.exp(logsoftmax(pred(feats, b)))\n",
    "    \n",
    "    for k in range(yhats.shape[1]):\n",
    "        indicators = (y == k).astype(int)\n",
    "        grad = np.dot(feats.T, (yhats[:,k] - indicators).reshape((-1,1)))\n",
    "        total_grad = np.sum(grad, axis = 0)\n",
    "        b[:,k] -= eta*(total_grad + lam*b[:,k])\n",
    "        \n",
    "    return b\n",
    "\n",
    "def train(X, b, y, epochs = 10000):\n",
    "    costs = []\n",
    "\n",
    "    for e in range(epochs):        \n",
    "        # draw mini batches from x and y\n",
    "        idx = np.random.choice(np.arange(len(X)), 10, replace = False)\n",
    "        X_i, y_i = X[idx], y[idx]\n",
    "        \n",
    "        # Perform gradient descent\n",
    "        b = perform_grad_descent(X_i, b, y_i, .000001, .00005)\n",
    "        if epochs % 100 == 0:\n",
    "            costs.append(compute_cost(X_i, b, y_i))\n",
    "            \n",
    "    return b, costs\n",
    "\n",
    "# Train\n",
    "b, costs = train(X_train, init_b, y)\n",
    "\n",
    "# Plot training\n",
    "plt.plot(costs)\n",
    "plt.show()\n",
    "\n",
    "## Generate predictions, accuracy\n",
    "y_pred = pred_binary(X_train, b)\n",
    "accuracy(y_pred, y)"
   ]
  },
  {
   "cell_type": "code",
   "execution_count": 122,
   "metadata": {},
   "outputs": [
    {
     "data": {
      "text/plain": [
       "0.9866666666666667"
      ]
     },
     "execution_count": 122,
     "metadata": {},
     "output_type": "execute_result"
    }
   ],
   "source": [
    "from sklearn.linear_model import LogisticRegression\n",
    "\n",
    "logit = LogisticRegression(solver = 'saga', multi_class = 'multinomial', max_iter = 50000)\n",
    "logit.fit(X_train, y)\n",
    "logit_pred = logit.predict(X_train)\n",
    "accuracy(logit_pred, y)"
   ]
  },
  {
   "cell_type": "code",
   "execution_count": null,
   "metadata": {},
   "outputs": [],
   "source": []
  },
  {
   "cell_type": "code",
   "execution_count": null,
   "metadata": {},
   "outputs": [],
   "source": []
  }
 ],
 "metadata": {
  "kernelspec": {
   "display_name": "Python 3",
   "language": "python",
   "name": "python3"
  },
  "language_info": {
   "codemirror_mode": {
    "name": "ipython",
    "version": 3
   },
   "file_extension": ".py",
   "mimetype": "text/x-python",
   "name": "python",
   "nbconvert_exporter": "python",
   "pygments_lexer": "ipython3",
   "version": "3.8.3"
  }
 },
 "nbformat": 4,
 "nbformat_minor": 2
}

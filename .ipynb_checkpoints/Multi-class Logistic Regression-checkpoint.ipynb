{
 "cells": [
  {
   "cell_type": "code",
   "execution_count": 40,
   "metadata": {},
   "outputs": [],
   "source": [
    "from sklearn import datasets\n",
    "import pandas as pd\n",
    "import numpy as np\n",
    "from scipy.special import logsumexp\n",
    "import matplotlib\n",
    "import matplotlib.pyplot as plt\n",
    "from sklearn.utils import shuffle\n",
    "\n",
    "iris = datasets.load_iris()\n",
    "X = iris.data[:,] \n",
    "y = iris.target"
   ]
  },
  {
   "cell_type": "code",
   "execution_count": 41,
   "metadata": {},
   "outputs": [],
   "source": [
    "# Add intercept column\n",
    "X_train = np.hstack((X,np.ones((X.shape[0],1))))\n",
    "\n",
    "# Initialize random betas\n",
    "num_feats = X_train.shape[1]\n",
    "num_classes = len(np.unique(y))\n",
    "init_b = np.random.normal(0,1,num_feats*num_classes).reshape((num_feats,num_classes))"
   ]
  },
  {
   "cell_type": "code",
   "execution_count": 42,
   "metadata": {
    "scrolled": true
   },
   "outputs": [
    {
     "data": {
      "image/png": "[encoded data removed]",
      "text/plain": [
       "<Figure size 432x288 with 1 Axes>"
      ]
     },
     "metadata": {
      "needs_background": "light"
     },
     "output_type": "display_data"
    },
    {
     "data": {
      "text/plain": [
       "0.72"
      ]
     },
     "execution_count": 42,
     "metadata": {},
     "output_type": "execute_result"
    }
   ],
   "source": [
    "def logsoftmax(z):\n",
    "    sums = logsumexp(z, axis = 1).reshape((-1,1))\n",
    "    logp = z - sums\n",
    "    return logp\n",
    "\n",
    "def pred(feats, b):\n",
    "    return np.dot(feats,b)\n",
    "\n",
    "def pred_binary(feats, b):\n",
    "    yhat = pred(feats, b)\n",
    "    return(np.argmax(yhat, axis = 1))\n",
    "\n",
    "\n",
    "def compute_cost(feats, b, y):\n",
    "    log_yhats = logsoftmax(pred(feats, b))\n",
    "    cost = -1*np.sum(log_yhats[np.arange(log_yhats.shape[0]), y], axis = 0)\n",
    "    return cost\n",
    "\n",
    "def accuracy(y_pred, y):\n",
    "    return np.mean(y_pred == y)\n",
    "\n",
    "# Gradient in each dimension is sum(feats * (ind(y=k)-P(y=k)))\n",
    "def perform_grad_descent(feats, b, y, eta, lam):\n",
    "    yhats = np.exp(logsoftmax(pred(feats, b)))\n",
    "    \n",
    "    for k in range(yhats.shape[1]):\n",
    "        indicators = (y == k).astype(int)\n",
    "        grad = np.dot(feats.T, (yhats[:,k] - indicators).reshape((-1,1)))\n",
    "        total_grad = np.sum(grad, axis = 0)\n",
    "        b[:,k] -= eta*(total_grad + lam*b[:,k])\n",
    "        \n",
    "    return b\n",
    "\n",
    "def train(X, b, y, epochs = 30000):\n",
    "    costs = []\n",
    "\n",
    "    for e in range(epochs):        \n",
    "        # draw mini batches from x and y\n",
    "        idx = np.random.choice(np.arange(len(X)), 10, replace = False)\n",
    "        X_i, y_i = X[idx], y[idx]\n",
    "        \n",
    "        # Perform gradient descent\n",
    "        b = perform_grad_descent(X_i, b, y_i, .00001, .00005)\n",
    "        if epochs % 100 == 0:\n",
    "            costs.append(compute_cost(X_i, b, y_i))\n",
    "            \n",
    "    return b, costs\n",
    "\n",
    "# Train\n",
    "b, costs = train(X_train, init_b, y)\n",
    "\n",
    "# Plot training\n",
    "plt.plot(costs)\n",
    "plt.show()\n",
    "\n",
    "## Generate predictions, accuracy\n",
    "y_pred = pred_binary(X_train, b)\n",
    "accuracy(y_pred, y)"
   ]
  },
  {
   "cell_type": "code",
   "execution_count": null,
   "metadata": {},
   "outputs": [],
   "source": []
  },
  {
   "cell_type": "code",
   "execution_count": null,
   "metadata": {},
   "outputs": [],
   "source": []
  },
  {
   "cell_type": "code",
   "execution_count": null,
   "metadata": {},
   "outputs": [],
   "source": []
  }
 ],
 "metadata": {
  "kernelspec": {
   "display_name": "Python 3",
   "language": "python",
   "name": "python3"
  },
  "language_info": {
   "codemirror_mode": {
    "name": "ipython",
    "version": 3
   },
   "file_extension": ".py",
   "mimetype": "text/x-python",
   "name": "python",
   "nbconvert_exporter": "python",
   "pygments_lexer": "ipython3",
   "version": "3.8.3"
  }
 },
 "nbformat": 4,
 "nbformat_minor": 4
}

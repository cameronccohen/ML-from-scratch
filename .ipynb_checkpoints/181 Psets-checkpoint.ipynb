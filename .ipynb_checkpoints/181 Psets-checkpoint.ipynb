{
 "cells": [
  {
   "cell_type": "markdown",
   "metadata": {},
   "source": [
    "## Pset 1"
   ]
  },
  {
   "cell_type": "markdown",
   "metadata": {},
   "source": [
    "### Problem 3"
   ]
  },
  {
   "cell_type": "code",
   "execution_count": 11,
   "metadata": {},
   "outputs": [],
   "source": [
    "import pandas as pd\n",
    "import numpy as np\n",
    "import matplotlib.pyplot as plt"
   ]
  },
  {
   "cell_type": "code",
   "execution_count": 3,
   "metadata": {},
   "outputs": [],
   "source": [
    "df = pd.read_csv(\"Data/year-sunspots-republicans.csv\")"
   ]
  },
  {
   "cell_type": "code",
   "execution_count": 8,
   "metadata": {},
   "outputs": [
    {
     "data": {
      "text/html": [
       "<div>\n",
       "<style scoped>\n",
       "    .dataframe tbody tr th:only-of-type {\n",
       "        vertical-align: middle;\n",
       "    }\n",
       "\n",
       "    .dataframe tbody tr th {\n",
       "        vertical-align: top;\n",
       "    }\n",
       "\n",
       "    .dataframe thead th {\n",
       "        text-align: right;\n",
       "    }\n",
       "</style>\n",
       "<table border=\"1\" class=\"dataframe\">\n",
       "  <thead>\n",
       "    <tr style=\"text-align: right;\">\n",
       "      <th></th>\n",
       "      <th>Year</th>\n",
       "      <th>Sunspot_Count</th>\n",
       "      <th>Republican_Count</th>\n",
       "    </tr>\n",
       "  </thead>\n",
       "  <tbody>\n",
       "    <tr>\n",
       "      <th>count</th>\n",
       "      <td>24.000000</td>\n",
       "      <td>24.000000</td>\n",
       "      <td>24.000000</td>\n",
       "    </tr>\n",
       "    <tr>\n",
       "      <th>mean</th>\n",
       "      <td>1983.000000</td>\n",
       "      <td>69.787500</td>\n",
       "      <td>45.333333</td>\n",
       "    </tr>\n",
       "    <tr>\n",
       "      <th>std</th>\n",
       "      <td>14.142136</td>\n",
       "      <td>45.306678</td>\n",
       "      <td>7.275131</td>\n",
       "    </tr>\n",
       "    <tr>\n",
       "      <th>min</th>\n",
       "      <td>1960.000000</td>\n",
       "      <td>8.600000</td>\n",
       "      <td>32.000000</td>\n",
       "    </tr>\n",
       "    <tr>\n",
       "      <th>25%</th>\n",
       "      <td>1971.500000</td>\n",
       "      <td>33.350000</td>\n",
       "      <td>40.250000</td>\n",
       "    </tr>\n",
       "    <tr>\n",
       "      <th>50%</th>\n",
       "      <td>1983.000000</td>\n",
       "      <td>66.600000</td>\n",
       "      <td>44.500000</td>\n",
       "    </tr>\n",
       "    <tr>\n",
       "      <th>75%</th>\n",
       "      <td>1994.500000</td>\n",
       "      <td>104.850000</td>\n",
       "      <td>52.250000</td>\n",
       "    </tr>\n",
       "    <tr>\n",
       "      <th>max</th>\n",
       "      <td>2006.000000</td>\n",
       "      <td>154.600000</td>\n",
       "      <td>55.000000</td>\n",
       "    </tr>\n",
       "  </tbody>\n",
       "</table>\n",
       "</div>"
      ],
      "text/plain": [
       "              Year  Sunspot_Count  Republican_Count\n",
       "count    24.000000      24.000000         24.000000\n",
       "mean   1983.000000      69.787500         45.333333\n",
       "std      14.142136      45.306678          7.275131\n",
       "min    1960.000000       8.600000         32.000000\n",
       "25%    1971.500000      33.350000         40.250000\n",
       "50%    1983.000000      66.600000         44.500000\n",
       "75%    1994.500000     104.850000         52.250000\n",
       "max    2006.000000     154.600000         55.000000"
      ]
     },
     "execution_count": 8,
     "metadata": {},
     "output_type": "execute_result"
    }
   ],
   "source": [
    "df.describe()"
   ]
  },
  {
   "cell_type": "code",
   "execution_count": 22,
   "metadata": {},
   "outputs": [
    {
     "data": {
      "image/png": "[encoded data removed]",
      "text/plain": [
       "<Figure size 432x288 with 1 Axes>"
      ]
     },
     "metadata": {
      "needs_background": "light"
     },
     "output_type": "display_data"
    }
   ],
   "source": [
    "plt.scatter(df.Year, df.Republican_Count)\n",
    "plt.xlabel(\"Year\")\n",
    "plt.ylabel(\"Number of Republicans\")\n",
    "plt.title(\"Republicans vs. year\")\n",
    "plt.show()"
   ]
  },
  {
   "cell_type": "code",
   "execution_count": 21,
   "metadata": {},
   "outputs": [
    {
     "data": {
      "image/png": "[encoded data removed]",
      "text/plain": [
       "<Figure size 432x288 with 1 Axes>"
      ]
     },
     "metadata": {
      "needs_background": "light"
     },
     "output_type": "display_data"
    }
   ],
   "source": [
    "plt.scatter(df.Year, df.Sunspot_Count);"
   ]
  },
  {
   "cell_type": "code",
   "execution_count": 127,
   "metadata": {},
   "outputs": [],
   "source": [
    "## Functions to fit regression lines:\n",
    "\n",
    "def x_basis(X, basis = 'default'):\n",
    "    if basis == 'default':\n",
    "        new_feats = np.vstack((X, np.ones(X.shape[0]))).T\n",
    "    elif basis == 'power':\n",
    "        new_feats = np.ones(X.shape[0])\n",
    "        for j in range(1, 6):\n",
    "            new_feats = np.vstack((new_feats, np.power(X, j)))\n",
    "        \n",
    "        new_feats = new_feats.T\n",
    "        \n",
    "    return new_feats\n",
    "\n",
    "def fit_w(X, y):\n",
    "    beta = np.linalg.solve(np.dot(X.T, X), np.dot(X.T, y))\n",
    "    return beta\n",
    "\n",
    "years = df.Year\n",
    "rep_counts = df.Republican_Count\n",
    "sunspots = df.Sunspot_Count"
   ]
  },
  {
   "cell_type": "code",
   "execution_count": 130,
   "metadata": {},
   "outputs": [
    {
     "data": {
      "image/png": "[encoded data removed]",
      "text/plain": [
       "<Figure size 432x288 with 1 Axes>"
      ]
     },
     "metadata": {
      "needs_background": "light"
     },
     "output_type": "display_data"
    },
    {
     "data": {
      "image/png": "[encoded data removed]",
      "text/plain": [
       "<Figure size 432x288 with 1 Axes>"
      ]
     },
     "metadata": {
      "needs_background": "light"
     },
     "output_type": "display_data"
    }
   ],
   "source": [
    "# Plot data and regression lines:\n",
    "y = rep_counts\n",
    "bases = ['default', 'power']\n",
    "\n",
    "for i, base in enumerate(bases):\n",
    "    X = x_basis(years, basis = base)\n",
    "    beta = fit_w(X, y)\n",
    "\n",
    "    plt.figure(i)\n",
    "    grid_years = np.linspace(years.min(), years.max(), 200)\n",
    "    grid_x = x_basis(grid_years, basis = base)\n",
    "\n",
    "    grid_yhat = np.dot(grid_x, beta)\n",
    "    plt.plot(years, rep_counts, 'o', grid_years, grid_yhat, '-')\n",
    "    plt.xlabel(\"Year\")\n",
    "    plt.ylabel(\"Reps in Congress\")\n",
    "    plt.title(f\"{base} Basis\")\n",
    "    \n",
    "    \n",
    "plt.show()"
   ]
  },
  {
   "cell_type": "code",
   "execution_count": null,
   "metadata": {},
   "outputs": [],
   "source": []
  }
 ],
 "metadata": {
  "kernelspec": {
   "display_name": "Python 3",
   "language": "python",
   "name": "python3"
  },
  "language_info": {
   "codemirror_mode": {
    "name": "ipython",
    "version": 3
   },
   "file_extension": ".py",
   "mimetype": "text/x-python",
   "name": "python",
   "nbconvert_exporter": "python",
   "pygments_lexer": "ipython3",
   "version": "3.8.3"
  }
 },
 "nbformat": 4,
 "nbformat_minor": 4
}

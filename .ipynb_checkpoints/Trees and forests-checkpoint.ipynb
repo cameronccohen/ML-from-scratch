{
 "cells": [
  {
   "cell_type": "code",
   "execution_count": 46,
   "metadata": {},
   "outputs": [],
   "source": [
    "import numpy as np\n",
    "import pandas as pd\n",
    "import matplotlib.pyplot as plt\n",
    "import seaborn as sns\n",
    "from sklearn.model_selection import train_test_split\n",
    "from sklearn.metrics import mean_squared_error\n",
    "from sklearn.tree import DecisionTreeRegressor as SKDecisionTreeRegressor\n",
    "from sklearn.ensemble import RandomForestRegressor as SKRandomForestRegressor"
   ]
  },
  {
   "cell_type": "markdown",
   "metadata": {},
   "source": [
    "##### Data import"
   ]
  },
  {
   "cell_type": "code",
   "execution_count": 3,
   "metadata": {},
   "outputs": [],
   "source": [
    "# Read in tips data -- Run for regression\n",
    "\n",
    "df = sns.load_dataset('tips')\n",
    "X = df.drop('tip', axis = 1).to_numpy()\n",
    "y = df['tip']\n",
    "\n",
    "# Generate data\n",
    "X_train, X_test, y_train, y_test = train_test_split(\n",
    "    X, y, test_size=0.33, random_state=42)"
   ]
  },
  {
   "cell_type": "code",
   "execution_count": 64,
   "metadata": {},
   "outputs": [
    {
     "data": {
      "text/html": [
       "<div>\n",
       "<style scoped>\n",
       "    .dataframe tbody tr th:only-of-type {\n",
       "        vertical-align: middle;\n",
       "    }\n",
       "\n",
       "    .dataframe tbody tr th {\n",
       "        vertical-align: top;\n",
       "    }\n",
       "\n",
       "    .dataframe thead th {\n",
       "        text-align: right;\n",
       "    }\n",
       "</style>\n",
       "<table border=\"1\" class=\"dataframe\">\n",
       "  <thead>\n",
       "    <tr style=\"text-align: right;\">\n",
       "      <th></th>\n",
       "      <th>total_bill</th>\n",
       "      <th>tip</th>\n",
       "      <th>size</th>\n",
       "    </tr>\n",
       "  </thead>\n",
       "  <tbody>\n",
       "    <tr>\n",
       "      <th>count</th>\n",
       "      <td>244.000000</td>\n",
       "      <td>244.000000</td>\n",
       "      <td>244.000000</td>\n",
       "    </tr>\n",
       "    <tr>\n",
       "      <th>mean</th>\n",
       "      <td>19.785943</td>\n",
       "      <td>2.998279</td>\n",
       "      <td>2.569672</td>\n",
       "    </tr>\n",
       "    <tr>\n",
       "      <th>std</th>\n",
       "      <td>8.902412</td>\n",
       "      <td>1.383638</td>\n",
       "      <td>0.951100</td>\n",
       "    </tr>\n",
       "    <tr>\n",
       "      <th>min</th>\n",
       "      <td>3.070000</td>\n",
       "      <td>1.000000</td>\n",
       "      <td>1.000000</td>\n",
       "    </tr>\n",
       "    <tr>\n",
       "      <th>25%</th>\n",
       "      <td>13.347500</td>\n",
       "      <td>2.000000</td>\n",
       "      <td>2.000000</td>\n",
       "    </tr>\n",
       "    <tr>\n",
       "      <th>50%</th>\n",
       "      <td>17.795000</td>\n",
       "      <td>2.900000</td>\n",
       "      <td>2.000000</td>\n",
       "    </tr>\n",
       "    <tr>\n",
       "      <th>75%</th>\n",
       "      <td>24.127500</td>\n",
       "      <td>3.562500</td>\n",
       "      <td>3.000000</td>\n",
       "    </tr>\n",
       "    <tr>\n",
       "      <th>max</th>\n",
       "      <td>50.810000</td>\n",
       "      <td>10.000000</td>\n",
       "      <td>6.000000</td>\n",
       "    </tr>\n",
       "  </tbody>\n",
       "</table>\n",
       "</div>"
      ],
      "text/plain": [
       "       total_bill         tip        size\n",
       "count  244.000000  244.000000  244.000000\n",
       "mean    19.785943    2.998279    2.569672\n",
       "std      8.902412    1.383638    0.951100\n",
       "min      3.070000    1.000000    1.000000\n",
       "25%     13.347500    2.000000    2.000000\n",
       "50%     17.795000    2.900000    2.000000\n",
       "75%     24.127500    3.562500    3.000000\n",
       "max     50.810000   10.000000    6.000000"
      ]
     },
     "execution_count": 64,
     "metadata": {},
     "output_type": "execute_result"
    }
   ],
   "source": [
    "df.describe()"
   ]
  },
  {
   "cell_type": "markdown",
   "metadata": {},
   "source": [
    "#### Regression trees"
   ]
  },
  {
   "cell_type": "code",
   "execution_count": 5,
   "metadata": {},
   "outputs": [],
   "source": [
    "## Helper functions:\n",
    "\n",
    "def rss(left, right):\n",
    "    rss_left = np.sum((left - np.mean(left))**2)\n",
    "    rss_right = np.sum((right - np.mean(right))**2)\n",
    "    \n",
    "    return rss_left + rss_right\n"
   ]
  },
  {
   "cell_type": "code",
   "execution_count": 21,
   "metadata": {},
   "outputs": [],
   "source": [
    "class DecisionTreeRegressor:\n",
    "    \n",
    "    # Node object that constitutes the tree\n",
    "    class node:\n",
    "        def __init__(self, feat = None, threshold = None, y_hat = None, left_child = None, right_child = None):\n",
    "            self.feat = feat\n",
    "            self.threshold = threshold\n",
    "            self.y_hat = y_hat\n",
    "            self.left_child = left_child\n",
    "            self.right_child = right_child\n",
    "            \n",
    "    # Basic fitting function\n",
    "    def fit(self, X, y, max_depth = 50, min_size = 2, max_features = None):\n",
    "        self.X = X\n",
    "        self.y = y\n",
    "        self.max_depth = max_depth\n",
    "        self.min_size = min_size\n",
    "        self.max_features = max_features\n",
    "        \n",
    "        dtypes = [np.array(list(self.X[:,d])).dtype for d in range(self.X.shape[1])]\n",
    "        self.dtypes = ['quant' if (dtype == float or dtype == int) else 'cat' for dtype in dtypes]\n",
    "        \n",
    "        self.root = self.split(X, y, 0, max_depth, min_size, max_features)\n",
    "        \n",
    "    # Find the best splitting rule among all possible splits\n",
    "    def find_splitting_rule(self, X, y, max_features):\n",
    "        \n",
    "        def order_x_by_y(X, y, feat):\n",
    "            thresholds = np.unique(X[:, feat])\n",
    "            category_means = [y[X[:, feat] == threshold].mean() for threshold in thresholds]\n",
    "            ordered_cats = thresholds[np.argsort(category_means)]\n",
    "            return ordered_cats\n",
    "                \n",
    "        # Later change this to not require all feats (e.g. for RF)\n",
    "        num_total_feats = X.shape[1]\n",
    "        if max_features is not None:\n",
    "            feats = np.random.choice(np.arange(num_total_feats), max_features, replace = False)\n",
    "        else:\n",
    "            feats = np.arange(num_total_feats)\n",
    "        \n",
    "        min_rss, best_feat, best_thresh = np.inf, None, None\n",
    "        for feat in feats:\n",
    "            if self.dtypes[feat] == 'quant':\n",
    "                thresholds = np.unique(X[:, feat])\n",
    "                for threshold in thresholds:\n",
    "                    idxs = X[:, feat] < threshold\n",
    "                    y_left, y_right = y[idxs], y[~idxs]\n",
    "            else:\n",
    "                categories = order_x_by_y(X, y, feat)\n",
    "                for i in range(len(categories)):\n",
    "                    category_subset = categories[:i]\n",
    "                    idxs = np.isin(X[:, feat], category_subset)\n",
    "                    y_left, y_right = y[idxs], y[~idxs]\n",
    "                     \n",
    "            # Only split if some observations in each node; otherwise pick another feature\n",
    "            if len(y_left) == 0 or len(y_right) == 0:\n",
    "                continue\n",
    "\n",
    "            # If its an allowed split, check if best possible split\n",
    "            split_rss = rss(y_left, y_right)\n",
    "            if split_rss < min_rss:\n",
    "                min_rss = split_rss\n",
    "                best_thresh = threshold\n",
    "                best_feat = feat\n",
    "            \n",
    "        return best_feat, best_thresh\n",
    "                \n",
    "    # Recursively split the tree\n",
    "    def split(self, X, y, current_depth, max_depth, min_size, max_features):\n",
    "        \n",
    "        # If we hit stopping rule, make prediction and return leaf node \n",
    "        if current_depth == max_depth or X.shape[0] <= min_size:\n",
    "            return self.node(y_hat = np.mean(y))\n",
    "        \n",
    "        ## Otherwise, split and recurse:\n",
    "        # Find new splitting rule\n",
    "        feature, threshold = self.find_splitting_rule(X, y, max_features)\n",
    "        \n",
    "        # If no split found, stop searching and return leaf node\n",
    "        if feature is None:\n",
    "            return self.node(y_hat = np.mean(y))\n",
    "        \n",
    "        # Get the observations on each side \n",
    "        if self.dtypes[feature] == 'quant':\n",
    "            idxs = X[:, feature] < threshold\n",
    "        else:\n",
    "            idxs = np.isin(X[:, feature], threshold)\n",
    "        # Assign to new nodes   \n",
    "        new_node = self.node(feature, threshold)\n",
    "        new_node.left_child = self.split(X[idxs], y[idxs], current_depth + 1, max_depth, min_size, max_features)\n",
    "        new_node.right_child = self.split(X[~idxs], y[~idxs], current_depth + 1, max_depth, min_size, max_features)\n",
    "            \n",
    "        return new_node\n",
    "    \n",
    "    def predict_one(self, x_test):\n",
    "        # Traverse the tree\n",
    "        y_hat = None\n",
    "        current_node = self.root\n",
    "        while y_hat is None:\n",
    "            feature, threshold = current_node.feat, current_node.threshold\n",
    "            if self.dtypes[feature] == 'quant':\n",
    "                if x_test[feature] < threshold:\n",
    "                    current_node = current_node.left_child\n",
    "                else:\n",
    "                    current_node = current_node.right_child\n",
    "            else:\n",
    "                if np.isin(x_test[feature], threshold):\n",
    "                    current_node = current_node.left_child\n",
    "                else:\n",
    "                    current_node = current_node.right_child\n",
    "            y_hat = current_node.y_hat\n",
    "            \n",
    "        return y_hat\n",
    "\n",
    "    def predict(self, X_test):\n",
    "        y_hats = np.apply_along_axis(self.predict_one, 1, X_test)\n",
    "        return y_hats"
   ]
  },
  {
   "cell_type": "code",
   "execution_count": 22,
   "metadata": {},
   "outputs": [],
   "source": [
    "tree = DecisionTreeRegressor()\n",
    "tree.fit(X_train, y_train, max_features = 4, max_depth = 6, min_size = 5)\n",
    "y_test_hat = tree.predict(X_test)"
   ]
  },
  {
   "cell_type": "code",
   "execution_count": 23,
   "metadata": {},
   "outputs": [
    {
     "data": {
      "text/plain": [
       "array([2.80034483, 3.167     , 3.167     , 4.93857143, 2.81733333,\n",
       "       3.167     , 5.85      , 2.08857143, 3.167     , 2.656     ,\n",
       "       3.167     , 2.80034483, 2.08857143, 3.167     , 2.08857143,\n",
       "       2.08857143, 2.43222222, 3.167     , 2.336     , 5.        ,\n",
       "       3.58      , 2.80034483, 2.81733333, 2.80034483, 3.5       ,\n",
       "       2.43222222, 3.167     , 2.81733333, 3.167     , 6.7       ,\n",
       "       3.167     , 2.80034483, 4.93857143, 2.80034483, 3.09545455,\n",
       "       5.17      , 3.167     , 3.09      , 2.08857143, 2.80034483,\n",
       "       2.80034483, 2.08857143, 3.167     , 3.09545455, 2.43222222,\n",
       "       2.81733333, 2.81733333, 2.80034483, 2.43222222, 2.80034483,\n",
       "       2.80034483, 3.167     , 3.167     , 2.43222222, 3.167     ,\n",
       "       2.43222222, 3.167     , 2.80034483, 3.167     , 2.80034483,\n",
       "       3.09545455, 3.09545455, 3.167     , 2.656     , 2.80034483,\n",
       "       2.336     , 2.80034483, 2.336     , 2.80034483, 3.167     ,\n",
       "       3.167     , 4.93857143, 2.43222222, 2.336     , 2.80034483,\n",
       "       4.93857143, 3.167     , 3.167     , 4.93857143, 5.        ,\n",
       "       2.43222222])"
      ]
     },
     "execution_count": 23,
     "metadata": {},
     "output_type": "execute_result"
    }
   ],
   "source": [
    "y_test_hat"
   ]
  },
  {
   "cell_type": "code",
   "execution_count": 24,
   "metadata": {},
   "outputs": [
    {
     "name": "stdout",
     "output_type": "stream",
     "text": [
      "MSE from our model is 1.42\n"
     ]
    },
    {
     "data": {
      "image/png": "[encoded data removed]",
      "text/plain": [
       "<Figure size 504x360 with 1 Axes>"
      ]
     },
     "metadata": {
      "needs_background": "light"
     },
     "output_type": "display_data"
    }
   ],
   "source": [
    "## Visualize predictions\n",
    "fig, ax = plt.subplots(figsize = (7, 5))\n",
    "sns.scatterplot(y_test, tree.predict(X_test))\n",
    "ax.set(xlabel = r'$y$', ylabel = r'$\\hat{y}$', title = r'Test Sample $y$ vs. $\\hat{y}$')\n",
    "sns.despine()\n",
    "\n",
    "print(f\"MSE from our model is {mean_squared_error(y_test, y_test_hat):.2f}\")\n"
   ]
  },
  {
   "cell_type": "markdown",
   "metadata": {},
   "source": [
    "#### Random Forests:\n"
   ]
  },
  {
   "cell_type": "code",
   "execution_count": 60,
   "metadata": {},
   "outputs": [],
   "source": [
    "class RandomForest:\n",
    "    def fit(self, X, y, max_features, num_trees = 10, max_depth = 50, min_size = 2):\n",
    "        self.trees = []\n",
    "        self.num_trees = num_trees\n",
    "        \n",
    "        for B in range(self.num_trees):\n",
    "            sample = np.random.choice(np.arange(X.shape[0]), size = X.shape[0], replace = True)\n",
    "            X_b = X[sample]\n",
    "            y_b = y.to_numpy()[sample]\n",
    "\n",
    "            tree = DecisionTreeRegressor()\n",
    "            tree.fit(X_b, y_b, max_depth, min_size, max_features)\n",
    "            self.trees.append(tree)\n",
    "            \n",
    "            \n",
    "    def predict(self, X_test):\n",
    "        y_hats = np.empty((len(self.trees), X_test.shape[0]))\n",
    "        for i, tree in enumerate(self.trees):\n",
    "            y_hats[i] = tree.predict(X_test)\n",
    "            #print(tree.predict(X_test))\n",
    "        return np.mean(y_hats, axis = 0)"
   ]
  },
  {
   "cell_type": "code",
   "execution_count": 61,
   "metadata": {},
   "outputs": [],
   "source": [
    "rf = RandomForest()\n",
    "rf.fit(X_train, y_train, max_features = 4, num_trees = 100, max_depth = 6, min_size = 5)\n",
    "y_test_hat = rf.predict(X_test)\n",
    "#y_test_hat.shape"
   ]
  },
  {
   "cell_type": "code",
   "execution_count": 62,
   "metadata": {},
   "outputs": [
    {
     "name": "stdout",
     "output_type": "stream",
     "text": [
      "MSE from our model is 1.03\n"
     ]
    },
    {
     "data": {
      "image/png": "[encoded data removed]",
      "text/plain": [
       "<Figure size 504x360 with 1 Axes>"
      ]
     },
     "metadata": {
      "needs_background": "light"
     },
     "output_type": "display_data"
    }
   ],
   "source": [
    "## Visualize predictions\n",
    "fig, ax = plt.subplots(figsize = (7, 5))\n",
    "sns.scatterplot(y_test, rf.predict(X_test))\n",
    "ax.set(xlabel = r'$y$', ylabel = r'$\\hat{y}$', title = r'Test Sample $y$ vs. $\\hat{y}$')\n",
    "sns.despine()\n",
    "\n",
    "print(f\"MSE from our model is {mean_squared_error(y_test, y_test_hat):.2f}\")"
   ]
  },
  {
   "cell_type": "markdown",
   "metadata": {
    "jupyter": {
     "source_hidden": true
    }
   },
   "source": [
    "##### Compare to SKLearn RF"
   ]
  },
  {
   "cell_type": "code",
   "execution_count": null,
   "metadata": {
    "jupyter": {
     "source_hidden": true
    }
   },
   "outputs": [],
   "source": [
    "# SKLearn's model doesn't support factors, so have to one-hot encode\n",
    "\n",
    "df = sns.load_dataset('tips')\n",
    "X = df.drop('tip', axis = 1)\n",
    "X = pd.get_dummies(X, drop_first = True)\n",
    "X = X.to_numpy()\n",
    "y = df['tip']\n",
    "\n",
    "# Generate data\n",
    "X_train, X_test, y_train, y_test = train_test_split(\n",
    "    X, y, test_size=0.33, random_state=42)\n",
    "\n",
    "\n",
    "rf = RandomForest()\n",
    "rf.fit(X_train, y_train, max_features = 4, num_trees = 100, max_depth = 6, min_size = 5)\n",
    "y_test_hat = rf.predict(X_test)\n",
    "print(f\"MSE from our RF model is {mean_squared_error(y_test, y_test_hat):.2f}\")\n",
    "\n",
    "rf = SKRandomForestRegressor(max_depth = 6, min_samples_split = 5, n_estimators = 100, max_features = 4)\n",
    "rf.fit(X_train, y_train)\n",
    "y_test_hat = rf.predict(X_test)\n",
    "print(f\"SKLearn RF MSE is is {mean_squared_error(y_test, y_test_hat):.2f}\")"
   ]
  }
 ],
 "metadata": {
  "kernelspec": {
   "display_name": "Python 3",
   "language": "python",
   "name": "python3"
  },
  "language_info": {
   "codemirror_mode": {
    "name": "ipython",
    "version": 3
   },
   "file_extension": ".py",
   "mimetype": "text/x-python",
   "name": "python",
   "nbconvert_exporter": "python",
   "pygments_lexer": "ipython3",
   "version": "3.8.3"
  }
 },
 "nbformat": 4,
 "nbformat_minor": 4
}
